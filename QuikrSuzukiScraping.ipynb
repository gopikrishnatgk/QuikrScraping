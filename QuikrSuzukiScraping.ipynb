{
 "cells": [
  {
   "cell_type": "code",
   "execution_count": 1,
   "id": "f811e4f5",
   "metadata": {},
   "outputs": [],
   "source": [
    "import requests"
   ]
  },
  {
   "cell_type": "code",
   "execution_count": 2,
   "id": "87330412",
   "metadata": {},
   "outputs": [],
   "source": [
    "URL = 'https://www.quikr.com/cars/used+Maruti-Suzuki+Swift-Dzire+cars+all-india+z1399vbd'\n",
    "headers = {\"User-Agent\": 'Mozilla/5.0 (Windows NT 10.0; Win64; x64) AppleWebKit/537.36 (KHTML, like Gecko) Chrome/94.0.4606.81 Safari/537.36'}\n",
    "\n",
    "res = requests.get(URL, headers=headers)"
   ]
  },
  {
   "cell_type": "code",
   "execution_count": 3,
   "id": "21221a32",
   "metadata": {},
   "outputs": [
    {
     "data": {
      "text/plain": [
       "200"
      ]
     },
     "execution_count": 3,
     "metadata": {},
     "output_type": "execute_result"
    }
   ],
   "source": [
    "res.status_code"
   ]
  },
  {
   "cell_type": "code",
   "execution_count": 4,
   "id": "be642e43",
   "metadata": {},
   "outputs": [],
   "source": [
    "# res.text # Total page content"
   ]
  },
  {
   "cell_type": "code",
   "execution_count": 5,
   "id": "9dad6bbc",
   "metadata": {},
   "outputs": [
    {
     "data": {
      "text/plain": [
       "245688"
      ]
     },
     "execution_count": 5,
     "metadata": {},
     "output_type": "execute_result"
    }
   ],
   "source": [
    "len(res.text) # No. of characters in page"
   ]
  },
  {
   "cell_type": "code",
   "execution_count": 6,
   "id": "a822ecf3",
   "metadata": {},
   "outputs": [
    {
     "data": {
      "text/plain": [
       "'\\n    <!DOCTYPE html>\\n    <html lang=\"en\">\\n    <head><meta charset=\"utf-8\">\\n    <title data-preact-helmet>100 Used Maruti Suzuki Swift Dzire Cars in India | Second Hand  Maruti Suzuki Swift Dzire Cars for sale | QuikrCars</title>\\n    <link data-preact-helmet rel=\"canonical\" href=\"/cars/used+Maruti-Suzuki+Swift-Dzire+cars+all-india+z1399vbd\"><link data-preact-helmet rel=\"next\" href=\"/cars/used+Maruti-Suzuki+Swift-Dzire+cars+all-india+z1399vbd?page=2\">\\n    <!-- NREUM: (4) -->\\n    <meta name=\"mobile-web-app-capable\" content=\"yes\">\\n    <meta name=\"apple-mobile-web-app-capable\" content=\"yes\">\\n    <meta name=\"theme-color\" content=\"#008bcf\" >\\n    <meta name=\"viewport\" content=\"width=device-width, initial-scale=1.0, maximum-scale=1.0, user-scalable=0\" />\\n    <meta http-equiv=\"origin-trial\" content=\"Ano8PGHFJUq8abYNL4eeP5QBpmQrZWGdphO7JsOr/rToCJokb3nwfp6HrJwnKOd3PEEcg1zlSXeRN+H3wLjXdwMAAABleyJvcmlnaW4iOiJodHRwczovL3d3dy5xdWlrci5jb206NDQzIiwiZmVhdHVyZSI6IlNtc1JlY2VpdmVyIiwiZXhwaXJ5IjoxNTgzODg0Nzk'"
      ]
     },
     "execution_count": 6,
     "metadata": {},
     "output_type": "execute_result"
    }
   ],
   "source": [
    "content = res.text\n",
    "content[:1000] # 1000 characters"
   ]
  },
  {
   "cell_type": "code",
   "execution_count": 7,
   "id": "66e0d821",
   "metadata": {},
   "outputs": [],
   "source": [
    "# Creating an html page in destination folder\n",
    "with open('quikrSuzuki.html', 'w', encoding=\"utf-8\") as f:\n",
    "    f.write(content)"
   ]
  },
  {
   "cell_type": "code",
   "execution_count": 8,
   "id": "5df54e6b",
   "metadata": {},
   "outputs": [],
   "source": [
    "from bs4 import BeautifulSoup"
   ]
  },
  {
   "cell_type": "code",
   "execution_count": 9,
   "id": "26a2c97e",
   "metadata": {},
   "outputs": [],
   "source": [
    "soup = BeautifulSoup(content, 'html.parser')"
   ]
  },
  {
   "cell_type": "code",
   "execution_count": 10,
   "id": "c4cbd813",
   "metadata": {},
   "outputs": [],
   "source": [
    "div_tags = soup.find_all('div')"
   ]
  },
  {
   "cell_type": "code",
   "execution_count": 11,
   "id": "4fd497b8",
   "metadata": {},
   "outputs": [
    {
     "data": {
      "text/plain": [
       "437"
      ]
     },
     "execution_count": 11,
     "metadata": {},
     "output_type": "execute_result"
    }
   ],
   "source": [
    "len(div_tags)  # No.of div tags available in webpage"
   ]
  },
  {
   "cell_type": "code",
   "execution_count": 58,
   "id": "e26a1a32",
   "metadata": {},
   "outputs": [
    {
     "data": {
      "text/plain": [
       "24"
      ]
     },
     "execution_count": 58,
     "metadata": {},
     "output_type": "execute_result"
    }
   ],
   "source": [
    "carname_div = soup.find_all('div', class_='car-info__footer')\n",
    "len(carname_div)"
   ]
  },
  {
   "cell_type": "code",
   "execution_count": 61,
   "id": "0fb85840",
   "metadata": {},
   "outputs": [
    {
     "data": {
      "text/plain": [
       "[<h2>Maruti Suzuki Swift Dzire ZXi - 2022</h2>,\n",
       " <h2>Maruti Suzuki Swift Dzire VXi 1.2 BS IV - 2016</h2>,\n",
       " <h2>Maruti Suzuki Swift Dzire LDi - 2011</h2>,\n",
       " <h2>Maruti Suzuki Swift Dzire VXi - 2013</h2>,\n",
       " <h2>Maruti Suzuki Swift Dzire VXi 1.2 BS IV - 2011</h2>]"
      ]
     },
     "execution_count": 61,
     "metadata": {},
     "output_type": "execute_result"
    }
   ],
   "source": [
    "carname_div = soup.find_all(\"div\", {\"class\": \"car-info__footer\"})\n",
    "carname_div = [el.findChildren()[0] for el in carname_div]  # Getting first child of each div_cl\n",
    "carname_div[:5]"
   ]
  },
  {
   "cell_type": "code",
   "execution_count": 63,
   "id": "b4849d8c",
   "metadata": {},
   "outputs": [
    {
     "data": {
      "text/plain": [
       "'Maruti Suzuki Swift Dzire ZXi - 2022'"
      ]
     },
     "execution_count": 63,
     "metadata": {},
     "output_type": "execute_result"
    }
   ],
   "source": [
    "carname_div[0].text"
   ]
  },
  {
   "cell_type": "code",
   "execution_count": 64,
   "id": "d95c8ad8",
   "metadata": {},
   "outputs": [
    {
     "data": {
      "text/plain": [
       "['Maruti Suzuki Swift Dzire ZXi - 2022',\n",
       " 'Maruti Suzuki Swift Dzire VXi 1.2 BS IV - 2016',\n",
       " 'Maruti Suzuki Swift Dzire LDi - 2011',\n",
       " 'Maruti Suzuki Swift Dzire VXi - 2013',\n",
       " 'Maruti Suzuki Swift Dzire VXi 1.2 BS IV - 2011',\n",
       " 'Maruti Suzuki Swift Dzire ZDi BS IV - 2018',\n",
       " 'Maruti Suzuki Swift Dzire VXi 1.2 BS IV - 2016',\n",
       " 'Maruti Suzuki Swift Dzire ZDI AMT - 2017',\n",
       " 'Maruti Suzuki Swift Dzire VDi - 2009',\n",
       " 'Maruti Suzuki Swift Dzire New - 2024',\n",
       " 'Maruti Suzuki Swift Dzire VXI AMT - 2008',\n",
       " 'Maruti Suzuki Swift Dzire Tour VDi - 2018',\n",
       " 'Maruti Suzuki Swift Dzire New - 2024',\n",
       " 'Maruti Suzuki Swift Dzire VDi - 2014',\n",
       " 'Maruti Suzuki Swift Dzire VXI AT - 2024',\n",
       " 'Maruti Suzuki Swift Dzire - 2019',\n",
       " 'Maruti Suzuki Swift Dzire VXi - 2016',\n",
       " 'Maruti Suzuki Swift Dzire Tour LXi - 2021',\n",
       " 'Maruti Suzuki Swift Dzire VDi - 2020',\n",
       " 'Maruti Suzuki Swift Dzire Tour LDi - 2019',\n",
       " 'Maruti Suzuki Swift Dzire Tour VDi - 2022',\n",
       " 'Maruti Suzuki Swift Dzire LDi - 2016',\n",
       " 'Maruti Suzuki Swift Dzire Tour LXi - 2017',\n",
       " 'Maruti Suzuki Swift Dzire Tour LDi - 2017']"
      ]
     },
     "execution_count": 64,
     "metadata": {},
     "output_type": "execute_result"
    }
   ],
   "source": [
    "car_names = []\n",
    "\n",
    "for car in div_cl:\n",
    "    car_names.append(car.text)\n",
    "    \n",
    "car_names"
   ]
  },
  {
   "cell_type": "code",
   "execution_count": 65,
   "id": "ccc23a03",
   "metadata": {},
   "outputs": [
    {
     "data": {
      "text/plain": [
       "24"
      ]
     },
     "execution_count": 65,
     "metadata": {},
     "output_type": "execute_result"
    }
   ],
   "source": [
    "feature_div = soup.find_all('div', {\n",
    "    'class' : 'prime-features'\n",
    "})\n",
    "\n",
    "len(feature_div)"
   ]
  },
  {
   "cell_type": "code",
   "execution_count": 67,
   "id": "b034bce3",
   "metadata": {},
   "outputs": [
    {
     "data": {
      "text/plain": [
       "'67,000 kms / Petrol / 1st Owner'"
      ]
     },
     "execution_count": 67,
     "metadata": {},
     "output_type": "execute_result"
    }
   ],
   "source": [
    "feature_div[0].text"
   ]
  },
  {
   "cell_type": "code",
   "execution_count": 68,
   "id": "ea9af55d",
   "metadata": {},
   "outputs": [
    {
     "data": {
      "text/plain": [
       "['67,000 kms / Petrol / 1st Owner',\n",
       " '45,000 kms / Petrol',\n",
       " '94,000 kms / Diesel',\n",
       " '1,07,000 kms / Petrol / 2nd Owner',\n",
       " '76,000 kms / Petrol',\n",
       " '33,928 kms / Diesel / 1st Owner',\n",
       " '40,000 kms / Petrol',\n",
       " '55,000 kms / Diesel',\n",
       " '1,40,000 kms / Diesel',\n",
       " '19,000 kms / Petrol',\n",
       " '79,000 kms / Petrol / 2nd Owner',\n",
       " '1,15,000 kms / Diesel',\n",
       " '6,300 kms / CNG / 1st Owner',\n",
       " '1,48,000 kms / Diesel',\n",
       " '24,000 kms / CNG',\n",
       " '1,10,000 kms / Diesel',\n",
       " '2,00,000 kms / Petrol / 2nd Owner',\n",
       " '70,000 kms / CNG',\n",
       " '10,000 kms / Hybrid',\n",
       " '2,30,000 kms / Diesel',\n",
       " '1,03,000 kms / CNG',\n",
       " '1,79,000 kms / Diesel',\n",
       " '1,70,000 kms / Diesel / 2nd Owner',\n",
       " '1,54,023 kms / Diesel']"
      ]
     },
     "execution_count": 68,
     "metadata": {},
     "output_type": "execute_result"
    }
   ],
   "source": [
    "features = []\n",
    "\n",
    "for feature in feature_div:\n",
    "    features.append(feature.text)\n",
    "    \n",
    "features"
   ]
  },
  {
   "cell_type": "code",
   "execution_count": 70,
   "id": "bf70bf72",
   "metadata": {},
   "outputs": [
    {
     "data": {
      "text/plain": [
       "24"
      ]
     },
     "execution_count": 70,
     "metadata": {},
     "output_type": "execute_result"
    }
   ],
   "source": [
    "cls = 'price'\n",
    "price_div = soup.find_all('div', {\n",
    "    'class' : cls\n",
    "})\n",
    "\n",
    "len(price_div)"
   ]
  },
  {
   "cell_type": "code",
   "execution_count": 71,
   "id": "f49ed59f",
   "metadata": {},
   "outputs": [
    {
     "data": {
      "text/plain": [
       "['₹8,45,000 ',\n",
       " '₹5,75,000 ',\n",
       " '₹3,35,000 ',\n",
       " '₹3,80,000 ',\n",
       " '₹2,50,000 ',\n",
       " '₹6,20,000 ',\n",
       " '₹4,78,000 ',\n",
       " '₹7,99,000 ',\n",
       " '₹1,80,000 ',\n",
       " '₹8,00,000 ',\n",
       " '₹90,000 ',\n",
       " '₹4,15,000 ',\n",
       " '₹7,80,000 ',\n",
       " '₹3,32,000 ',\n",
       " '₹3,00,000 ',\n",
       " '₹4,99,999 ',\n",
       " '₹3,20,000 ',\n",
       " '₹4,49,000 ',\n",
       " '₹6,00,000 ',\n",
       " '₹4,50,000 ',\n",
       " '₹6,00,000 ',\n",
       " '₹2,75,000 ',\n",
       " '₹4,15,000 ',\n",
       " '₹4,65,000 ']"
      ]
     },
     "execution_count": 71,
     "metadata": {},
     "output_type": "execute_result"
    }
   ],
   "source": [
    "prices = []\n",
    "\n",
    "for price in price_div:\n",
    "    prices.append(price.text)\n",
    "    \n",
    "prices"
   ]
  },
  {
   "cell_type": "code",
   "execution_count": 72,
   "id": "ab90df92",
   "metadata": {},
   "outputs": [],
   "source": [
    "# Converting data into a DataFrame\n",
    "import pandas as pd"
   ]
  },
  {
   "cell_type": "code",
   "execution_count": 73,
   "id": "12c51e92",
   "metadata": {},
   "outputs": [],
   "source": [
    "cars_dict = {\n",
    "    'Name' : car_names,\n",
    "    'Features' : features,\n",
    "    'Price' : prices\n",
    "}"
   ]
  },
  {
   "cell_type": "code",
   "execution_count": 74,
   "id": "af30b8d4",
   "metadata": {},
   "outputs": [],
   "source": [
    "cars_df = pd.DataFrame(cars_dict)"
   ]
  },
  {
   "cell_type": "code",
   "execution_count": 75,
   "id": "f2340c2d",
   "metadata": {},
   "outputs": [
    {
     "data": {
      "text/html": [
       "<div>\n",
       "<style scoped>\n",
       "    .dataframe tbody tr th:only-of-type {\n",
       "        vertical-align: middle;\n",
       "    }\n",
       "\n",
       "    .dataframe tbody tr th {\n",
       "        vertical-align: top;\n",
       "    }\n",
       "\n",
       "    .dataframe thead th {\n",
       "        text-align: right;\n",
       "    }\n",
       "</style>\n",
       "<table border=\"1\" class=\"dataframe\">\n",
       "  <thead>\n",
       "    <tr style=\"text-align: right;\">\n",
       "      <th></th>\n",
       "      <th>Name</th>\n",
       "      <th>Features</th>\n",
       "      <th>Price</th>\n",
       "    </tr>\n",
       "  </thead>\n",
       "  <tbody>\n",
       "    <tr>\n",
       "      <th>0</th>\n",
       "      <td>Maruti Suzuki Swift Dzire ZXi - 2022</td>\n",
       "      <td>67,000 kms / Petrol / 1st Owner</td>\n",
       "      <td>₹8,45,000</td>\n",
       "    </tr>\n",
       "    <tr>\n",
       "      <th>1</th>\n",
       "      <td>Maruti Suzuki Swift Dzire VXi 1.2 BS IV - 2016</td>\n",
       "      <td>45,000 kms / Petrol</td>\n",
       "      <td>₹5,75,000</td>\n",
       "    </tr>\n",
       "    <tr>\n",
       "      <th>2</th>\n",
       "      <td>Maruti Suzuki Swift Dzire LDi - 2011</td>\n",
       "      <td>94,000 kms / Diesel</td>\n",
       "      <td>₹3,35,000</td>\n",
       "    </tr>\n",
       "    <tr>\n",
       "      <th>3</th>\n",
       "      <td>Maruti Suzuki Swift Dzire VXi - 2013</td>\n",
       "      <td>1,07,000 kms / Petrol / 2nd Owner</td>\n",
       "      <td>₹3,80,000</td>\n",
       "    </tr>\n",
       "    <tr>\n",
       "      <th>4</th>\n",
       "      <td>Maruti Suzuki Swift Dzire VXi 1.2 BS IV - 2011</td>\n",
       "      <td>76,000 kms / Petrol</td>\n",
       "      <td>₹2,50,000</td>\n",
       "    </tr>\n",
       "    <tr>\n",
       "      <th>5</th>\n",
       "      <td>Maruti Suzuki Swift Dzire ZDi BS IV - 2018</td>\n",
       "      <td>33,928 kms / Diesel / 1st Owner</td>\n",
       "      <td>₹6,20,000</td>\n",
       "    </tr>\n",
       "    <tr>\n",
       "      <th>6</th>\n",
       "      <td>Maruti Suzuki Swift Dzire VXi 1.2 BS IV - 2016</td>\n",
       "      <td>40,000 kms / Petrol</td>\n",
       "      <td>₹4,78,000</td>\n",
       "    </tr>\n",
       "    <tr>\n",
       "      <th>7</th>\n",
       "      <td>Maruti Suzuki Swift Dzire ZDI AMT - 2017</td>\n",
       "      <td>55,000 kms / Diesel</td>\n",
       "      <td>₹7,99,000</td>\n",
       "    </tr>\n",
       "    <tr>\n",
       "      <th>8</th>\n",
       "      <td>Maruti Suzuki Swift Dzire VDi - 2009</td>\n",
       "      <td>1,40,000 kms / Diesel</td>\n",
       "      <td>₹1,80,000</td>\n",
       "    </tr>\n",
       "    <tr>\n",
       "      <th>9</th>\n",
       "      <td>Maruti Suzuki Swift Dzire New - 2024</td>\n",
       "      <td>19,000 kms / Petrol</td>\n",
       "      <td>₹8,00,000</td>\n",
       "    </tr>\n",
       "    <tr>\n",
       "      <th>10</th>\n",
       "      <td>Maruti Suzuki Swift Dzire VXI AMT - 2008</td>\n",
       "      <td>79,000 kms / Petrol / 2nd Owner</td>\n",
       "      <td>₹90,000</td>\n",
       "    </tr>\n",
       "    <tr>\n",
       "      <th>11</th>\n",
       "      <td>Maruti Suzuki Swift Dzire Tour VDi - 2018</td>\n",
       "      <td>1,15,000 kms / Diesel</td>\n",
       "      <td>₹4,15,000</td>\n",
       "    </tr>\n",
       "    <tr>\n",
       "      <th>12</th>\n",
       "      <td>Maruti Suzuki Swift Dzire New - 2024</td>\n",
       "      <td>6,300 kms / CNG / 1st Owner</td>\n",
       "      <td>₹7,80,000</td>\n",
       "    </tr>\n",
       "    <tr>\n",
       "      <th>13</th>\n",
       "      <td>Maruti Suzuki Swift Dzire VDi - 2014</td>\n",
       "      <td>1,48,000 kms / Diesel</td>\n",
       "      <td>₹3,32,000</td>\n",
       "    </tr>\n",
       "    <tr>\n",
       "      <th>14</th>\n",
       "      <td>Maruti Suzuki Swift Dzire VXI AT - 2024</td>\n",
       "      <td>24,000 kms / CNG</td>\n",
       "      <td>₹3,00,000</td>\n",
       "    </tr>\n",
       "    <tr>\n",
       "      <th>15</th>\n",
       "      <td>Maruti Suzuki Swift Dzire - 2019</td>\n",
       "      <td>1,10,000 kms / Diesel</td>\n",
       "      <td>₹4,99,999</td>\n",
       "    </tr>\n",
       "    <tr>\n",
       "      <th>16</th>\n",
       "      <td>Maruti Suzuki Swift Dzire VXi - 2016</td>\n",
       "      <td>2,00,000 kms / Petrol / 2nd Owner</td>\n",
       "      <td>₹3,20,000</td>\n",
       "    </tr>\n",
       "    <tr>\n",
       "      <th>17</th>\n",
       "      <td>Maruti Suzuki Swift Dzire Tour LXi - 2021</td>\n",
       "      <td>70,000 kms / CNG</td>\n",
       "      <td>₹4,49,000</td>\n",
       "    </tr>\n",
       "    <tr>\n",
       "      <th>18</th>\n",
       "      <td>Maruti Suzuki Swift Dzire VDi - 2020</td>\n",
       "      <td>10,000 kms / Hybrid</td>\n",
       "      <td>₹6,00,000</td>\n",
       "    </tr>\n",
       "    <tr>\n",
       "      <th>19</th>\n",
       "      <td>Maruti Suzuki Swift Dzire Tour LDi - 2019</td>\n",
       "      <td>2,30,000 kms / Diesel</td>\n",
       "      <td>₹4,50,000</td>\n",
       "    </tr>\n",
       "    <tr>\n",
       "      <th>20</th>\n",
       "      <td>Maruti Suzuki Swift Dzire Tour VDi - 2022</td>\n",
       "      <td>1,03,000 kms / CNG</td>\n",
       "      <td>₹6,00,000</td>\n",
       "    </tr>\n",
       "    <tr>\n",
       "      <th>21</th>\n",
       "      <td>Maruti Suzuki Swift Dzire LDi - 2016</td>\n",
       "      <td>1,79,000 kms / Diesel</td>\n",
       "      <td>₹2,75,000</td>\n",
       "    </tr>\n",
       "    <tr>\n",
       "      <th>22</th>\n",
       "      <td>Maruti Suzuki Swift Dzire Tour LXi - 2017</td>\n",
       "      <td>1,70,000 kms / Diesel / 2nd Owner</td>\n",
       "      <td>₹4,15,000</td>\n",
       "    </tr>\n",
       "    <tr>\n",
       "      <th>23</th>\n",
       "      <td>Maruti Suzuki Swift Dzire Tour LDi - 2017</td>\n",
       "      <td>1,54,023 kms / Diesel</td>\n",
       "      <td>₹4,65,000</td>\n",
       "    </tr>\n",
       "  </tbody>\n",
       "</table>\n",
       "</div>"
      ],
      "text/plain": [
       "                                              Name  \\\n",
       "0             Maruti Suzuki Swift Dzire ZXi - 2022   \n",
       "1   Maruti Suzuki Swift Dzire VXi 1.2 BS IV - 2016   \n",
       "2             Maruti Suzuki Swift Dzire LDi - 2011   \n",
       "3             Maruti Suzuki Swift Dzire VXi - 2013   \n",
       "4   Maruti Suzuki Swift Dzire VXi 1.2 BS IV - 2011   \n",
       "5       Maruti Suzuki Swift Dzire ZDi BS IV - 2018   \n",
       "6   Maruti Suzuki Swift Dzire VXi 1.2 BS IV - 2016   \n",
       "7         Maruti Suzuki Swift Dzire ZDI AMT - 2017   \n",
       "8             Maruti Suzuki Swift Dzire VDi - 2009   \n",
       "9             Maruti Suzuki Swift Dzire New - 2024   \n",
       "10        Maruti Suzuki Swift Dzire VXI AMT - 2008   \n",
       "11       Maruti Suzuki Swift Dzire Tour VDi - 2018   \n",
       "12            Maruti Suzuki Swift Dzire New - 2024   \n",
       "13            Maruti Suzuki Swift Dzire VDi - 2014   \n",
       "14         Maruti Suzuki Swift Dzire VXI AT - 2024   \n",
       "15                Maruti Suzuki Swift Dzire - 2019   \n",
       "16            Maruti Suzuki Swift Dzire VXi - 2016   \n",
       "17       Maruti Suzuki Swift Dzire Tour LXi - 2021   \n",
       "18            Maruti Suzuki Swift Dzire VDi - 2020   \n",
       "19       Maruti Suzuki Swift Dzire Tour LDi - 2019   \n",
       "20       Maruti Suzuki Swift Dzire Tour VDi - 2022   \n",
       "21            Maruti Suzuki Swift Dzire LDi - 2016   \n",
       "22       Maruti Suzuki Swift Dzire Tour LXi - 2017   \n",
       "23       Maruti Suzuki Swift Dzire Tour LDi - 2017   \n",
       "\n",
       "                             Features       Price  \n",
       "0     67,000 kms / Petrol / 1st Owner  ₹8,45,000   \n",
       "1                 45,000 kms / Petrol  ₹5,75,000   \n",
       "2                 94,000 kms / Diesel  ₹3,35,000   \n",
       "3   1,07,000 kms / Petrol / 2nd Owner  ₹3,80,000   \n",
       "4                 76,000 kms / Petrol  ₹2,50,000   \n",
       "5     33,928 kms / Diesel / 1st Owner  ₹6,20,000   \n",
       "6                 40,000 kms / Petrol  ₹4,78,000   \n",
       "7                 55,000 kms / Diesel  ₹7,99,000   \n",
       "8               1,40,000 kms / Diesel  ₹1,80,000   \n",
       "9                 19,000 kms / Petrol  ₹8,00,000   \n",
       "10    79,000 kms / Petrol / 2nd Owner    ₹90,000   \n",
       "11              1,15,000 kms / Diesel  ₹4,15,000   \n",
       "12        6,300 kms / CNG / 1st Owner  ₹7,80,000   \n",
       "13              1,48,000 kms / Diesel  ₹3,32,000   \n",
       "14                   24,000 kms / CNG  ₹3,00,000   \n",
       "15              1,10,000 kms / Diesel  ₹4,99,999   \n",
       "16  2,00,000 kms / Petrol / 2nd Owner  ₹3,20,000   \n",
       "17                   70,000 kms / CNG  ₹4,49,000   \n",
       "18                10,000 kms / Hybrid  ₹6,00,000   \n",
       "19              2,30,000 kms / Diesel  ₹4,50,000   \n",
       "20                 1,03,000 kms / CNG  ₹6,00,000   \n",
       "21              1,79,000 kms / Diesel  ₹2,75,000   \n",
       "22  1,70,000 kms / Diesel / 2nd Owner  ₹4,15,000   \n",
       "23              1,54,023 kms / Diesel  ₹4,65,000   "
      ]
     },
     "execution_count": 75,
     "metadata": {},
     "output_type": "execute_result"
    }
   ],
   "source": [
    "cars_df"
   ]
  },
  {
   "cell_type": "code",
   "execution_count": 76,
   "id": "4b3a9fe6",
   "metadata": {},
   "outputs": [],
   "source": [
    "# Converting DataFrame into a csv file\n",
    "cars_df.to_csv('QuikrSuzukiCars.csv') # QuikrSuzukiCars.csv file will be created in destination folder"
   ]
  },
  {
   "cell_type": "code",
   "execution_count": null,
   "id": "172cf945",
   "metadata": {},
   "outputs": [],
   "source": []
  }
 ],
 "metadata": {
  "kernelspec": {
   "display_name": "Python 3 (ipykernel)",
   "language": "python",
   "name": "python3"
  },
  "language_info": {
   "codemirror_mode": {
    "name": "ipython",
    "version": 3
   },
   "file_extension": ".py",
   "mimetype": "text/x-python",
   "name": "python",
   "nbconvert_exporter": "python",
   "pygments_lexer": "ipython3",
   "version": "3.11.5"
  }
 },
 "nbformat": 4,
 "nbformat_minor": 5
}
